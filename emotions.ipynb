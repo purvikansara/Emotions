{
 "cells": [
  {
   "cell_type": "markdown",
   "id": "a371974f-e59f-4854-82cb-3d1ffa590d28",
   "metadata": {},
   "source": [
    "# Emosions"
   ]
  },
  {
   "cell_type": "markdown",
   "id": "ed9239c6-f727-4a80-a274-a887f11de5b1",
   "metadata": {},
   "source": [
    "<p align=\"center\">\n",
    "  <img src=\"Images/emosion.jpeg\" width=\"200\" alt=\"Image 1\" style=\"margin-right: 50px;\" />\n",
    "</p>\n",
    "\n",
    "\n",
    "Image Source : [istockphoto](https://www.istockphoto.com/photo/customer-choose-emoji-emoticons-happy-mood-on-emotions-satisfaction-meter-evaluation-gm1454928178-490425219?utm_campaign=srp_photos_top&utm_content=https%3A%2F%2Funsplash.com%2Fs%2Fphotos%2Femosion&utm_medium=affiliate&utm_source=unsplash&utm_term=emosion%3A%3A%3A).  "
   ]
  },
  {
   "cell_type": "markdown",
   "id": "edc580f8-52d2-4fb1-8464-f8387815c6a0",
   "metadata": {},
   "source": [
    "- Welcome to the \"Emotions\" dataset – a collection of English Twitter messages meticulously annotated with six fundamental emotions: anger, fear, joy, love, sadness, and surprise. \n",
    "\n",
    "- This dataset serves as a valuable resource for understanding and analyzing the diverse spectrum of emotions expressed in short-form text on social media.\n",
    "- This dataset is provided in the Kaggle. You can find the source here : [Click here for the Source](https://www.kaggle.com/datasets/nelgiriyewithana/emotions/data)"
   ]
  },
  {
   "cell_type": "markdown",
   "id": "cf34fc6c-25e1-4dc9-b26e-860de52ec6f2",
   "metadata": {},
   "source": [
    "<h2> Dataset </h2>"
   ]
  },
  {
   "cell_type": "markdown",
   "id": "8f386f35-6a62-4cd3-9e40-8a0c03a09ceb",
   "metadata": {},
   "source": [
    "Each entry in this dataset consists of a text segment representing a Twitter message and a corresponding label indicating the predominant emotion conveyed. The emotions are classified into six categories: sadness (0), joy (1), love (2), anger (3), fear (4), and surprise (5). Whether you're interested in sentiment analysis, emotion classification, or text mining, this dataset provides a rich foundation for exploring the nuanced emotional landscape within the realm of social media.\n",
    "\n",
    "Key Features:\n",
    "\n",
    "- text: A string feature representing the content of the Twitter message.\n",
    "- label: A classification label indicating the primary emotion, with values ranging from 0 to 5.\n",
    "\n",
    "Potential Use Cases:\n",
    "\n",
    "- Sentiment Analysis: Uncover the prevailing sentiments in English Twitter messages across various emotions.\n",
    "- Emotion Classification: Develop models to accurately classify tweets into the six specified emotion categories.\n",
    "- Textual Analysis: Explore linguistic patterns and expressions associated with different emotional states.\n",
    "\n",
    "Sample Data:\n",
    "\n",
    "Here's a glimpse of the dataset with a few examples:\n",
    "\n",
    "| Text | Label |\n",
    "|---|---|\n",
    "| that was what i felt when i was finally accept... | 1 |\n",
    "| i take every day as it comes i'm just focusing... | 4 |\n",
    "| i give you plenty of attention even when i feel... | 0 |\n",
    "| If you find this dataset useful consider giving it a vote! ❤️ | Note |\n"
   ]
  },
  {
   "cell_type": "markdown",
   "id": "089f5472-6a7b-4987-b924-250d85be6a2a",
   "metadata": {},
   "source": [
    "### <font color='blue'>Custom Functions</font>"
   ]
  },
  {
   "cell_type": "code",
   "execution_count": 14,
   "id": "4ff85bd2-d40a-4759-92cf-3cad40e22f47",
   "metadata": {},
   "outputs": [
    {
     "name": "stdout",
     "output_type": "stream",
     "text": [
      "The autoreload extension is already loaded. To reload it, use:\n",
      "  %reload_ext autoreload\n"
     ]
    }
   ],
   "source": [
    "# Lets use the custom function  with autoreload option\n",
    "\n",
    "%load_ext autoreload\n",
    "%autoreload 2\n",
    "\n",
    "import custom_function as fn"
   ]
  },
  {
   "cell_type": "markdown",
   "id": "e1265f02-fff0-41b8-8fef-4edfcadeeff9",
   "metadata": {},
   "source": [
    "### <font color='blue'>Import Libraries</font>"
   ]
  },
  {
   "cell_type": "code",
   "execution_count": 15,
   "id": "f0077d19-c37a-4fe3-9593-51fdd7ae90f1",
   "metadata": {},
   "outputs": [],
   "source": [
    "## imports\n",
    "\n",
    "import matplotlib.pyplot as plt\n",
    "import missingno\n",
    "import matplotlib as mpl\n",
    "import seaborn as sns\n",
    "import numpy as np\n",
    "import pandas as pd\n",
    "\n",
    "pd.set_option(\"display.max_columns\",50)\n",
    "pd.set_option('display.max_colwidth', 250)\n",
    "\n",
    "# Load imports for NLP\n",
    "import nltk\n",
    "from nltk.probability import FreqDist\n",
    "from nltk.sentiment.vader import SentimentIntensityAnalyzer\n",
    "from wordcloud import WordCloud, STOPWORDS\n",
    "import joblib\n",
    "import tensorflow as tf\n",
    "from imblearn.under_sampling import RandomUnderSampler\n",
    "from sklearn.model_selection import train_test_split, GridSearchCV\n",
    "from sklearn.pipeline import Pipeline\n",
    "from sklearn.preprocessing import LabelEncoder\n",
    "from sklearn.feature_extraction.text import CountVectorizer, TfidfVectorizer\n",
    "from sklearn.linear_model import LogisticRegression\n",
    "from sklearn.ensemble import RandomForestClassifier\n",
    "from sklearn.naive_bayes import MultinomialNB\n",
    "from sklearn.metrics import classification_report\n",
    "from tensorflow.keras.layers import TextVectorization\n",
    "from tensorflow.keras.models import Sequential\n",
    "from tensorflow.keras import layers, optimizers, regularizers"
   ]
  },
  {
   "cell_type": "code",
   "execution_count": 16,
   "id": "5a401765-0477-4963-beb6-122a35693793",
   "metadata": {},
   "outputs": [],
   "source": [
    "# Setting random seed for reproducibility\n",
    "tf.keras.utils.set_random_seed(42)\n",
    "tf.random.set_seed(42)\n",
    "np.random.seed(42)\n",
    "tf.config.experimental.enable_op_determinism()"
   ]
  },
  {
   "cell_type": "markdown",
   "id": "c06b53ee-93fa-4fa5-aede-903541710136",
   "metadata": {},
   "source": [
    "## Load the data "
   ]
  },
  {
   "cell_type": "code",
   "execution_count": 4,
   "id": "088f69d0-5299-460a-ac06-46075e45986c",
   "metadata": {},
   "outputs": [
    {
     "name": "stdout",
     "output_type": "stream",
     "text": [
      "<class 'pandas.core.frame.DataFrame'>\n",
      "RangeIndex: 416809 entries, 0 to 416808\n",
      "Data columns (total 3 columns):\n",
      " #   Column      Non-Null Count   Dtype \n",
      "---  ------      --------------   ----- \n",
      " 0   Unnamed: 0  416809 non-null  int64 \n",
      " 1   text        416809 non-null  object\n",
      " 2   label       416809 non-null  int64 \n",
      "dtypes: int64(2), object(1)\n",
      "memory usage: 9.5+ MB\n"
     ]
    }
   ],
   "source": [
    "emosion = pd.read_csv('Data/text.csv')\n",
    "emosion.info()"
   ]
  },
  {
   "cell_type": "code",
   "execution_count": 5,
   "id": "0d14b21a-772d-4c4b-91a2-b5daf11fda3c",
   "metadata": {},
   "outputs": [
    {
     "data": {
      "text/html": [
       "<div>\n",
       "<style scoped>\n",
       "    .dataframe tbody tr th:only-of-type {\n",
       "        vertical-align: middle;\n",
       "    }\n",
       "\n",
       "    .dataframe tbody tr th {\n",
       "        vertical-align: top;\n",
       "    }\n",
       "\n",
       "    .dataframe thead th {\n",
       "        text-align: right;\n",
       "    }\n",
       "</style>\n",
       "<table border=\"1\" class=\"dataframe\">\n",
       "  <thead>\n",
       "    <tr style=\"text-align: right;\">\n",
       "      <th></th>\n",
       "      <th>Unnamed: 0</th>\n",
       "      <th>text</th>\n",
       "      <th>label</th>\n",
       "    </tr>\n",
       "  </thead>\n",
       "  <tbody>\n",
       "    <tr>\n",
       "      <th>0</th>\n",
       "      <td>0</td>\n",
       "      <td>i just feel really helpless and heavy hearted</td>\n",
       "      <td>4</td>\n",
       "    </tr>\n",
       "    <tr>\n",
       "      <th>1</th>\n",
       "      <td>1</td>\n",
       "      <td>ive enjoyed being able to slouch about relax and unwind and frankly needed it after those last few weeks around the end of uni and the expo i have lately started to find myself feeling a bit listless which is never really a good thing</td>\n",
       "      <td>0</td>\n",
       "    </tr>\n",
       "    <tr>\n",
       "      <th>2</th>\n",
       "      <td>2</td>\n",
       "      <td>i gave up my internship with the dmrg and am feeling distraught</td>\n",
       "      <td>4</td>\n",
       "    </tr>\n",
       "    <tr>\n",
       "      <th>3</th>\n",
       "      <td>3</td>\n",
       "      <td>i dont know i feel so lost</td>\n",
       "      <td>0</td>\n",
       "    </tr>\n",
       "    <tr>\n",
       "      <th>4</th>\n",
       "      <td>4</td>\n",
       "      <td>i am a kindergarten teacher and i am thoroughly weary of my job after having taken the university entrance exam i suffered from anxiety for weeks as i did not want to carry on with my work studies were the only alternative</td>\n",
       "      <td>4</td>\n",
       "    </tr>\n",
       "  </tbody>\n",
       "</table>\n",
       "</div>"
      ],
      "text/plain": [
       "   Unnamed: 0  \\\n",
       "0           0   \n",
       "1           1   \n",
       "2           2   \n",
       "3           3   \n",
       "4           4   \n",
       "\n",
       "                                                                                                                                                                                                                                         text  \\\n",
       "0                                                                                                                                                                                               i just feel really helpless and heavy hearted   \n",
       "1  ive enjoyed being able to slouch about relax and unwind and frankly needed it after those last few weeks around the end of uni and the expo i have lately started to find myself feeling a bit listless which is never really a good thing   \n",
       "2                                                                                                                                                                             i gave up my internship with the dmrg and am feeling distraught   \n",
       "3                                                                                                                                                                                                                  i dont know i feel so lost   \n",
       "4              i am a kindergarten teacher and i am thoroughly weary of my job after having taken the university entrance exam i suffered from anxiety for weeks as i did not want to carry on with my work studies were the only alternative   \n",
       "\n",
       "   label  \n",
       "0      4  \n",
       "1      0  \n",
       "2      4  \n",
       "3      0  \n",
       "4      4  "
      ]
     },
     "execution_count": 5,
     "metadata": {},
     "output_type": "execute_result"
    }
   ],
   "source": [
    "emosion.head()"
   ]
  },
  {
   "cell_type": "markdown",
   "id": "e2dedda4-da18-4978-a5c6-d90ebf536e78",
   "metadata": {},
   "source": [
    "It look like we have unwanted column Unnamed:. Lets remove it from the dataframe\n",
    "\n"
   ]
  },
  {
   "cell_type": "code",
   "execution_count": 7,
   "id": "3a4df7a8-876a-4d32-b7a6-6d3e6c3b9f77",
   "metadata": {},
   "outputs": [],
   "source": [
    "emosion = emosion.drop(columns= (['Unnamed: 0']))"
   ]
  },
  {
   "cell_type": "code",
   "execution_count": 8,
   "id": "b21a6ba8-28a3-4777-a578-ad68634c7abf",
   "metadata": {},
   "outputs": [
    {
     "data": {
      "text/html": [
       "<div>\n",
       "<style scoped>\n",
       "    .dataframe tbody tr th:only-of-type {\n",
       "        vertical-align: middle;\n",
       "    }\n",
       "\n",
       "    .dataframe tbody tr th {\n",
       "        vertical-align: top;\n",
       "    }\n",
       "\n",
       "    .dataframe thead th {\n",
       "        text-align: right;\n",
       "    }\n",
       "</style>\n",
       "<table border=\"1\" class=\"dataframe\">\n",
       "  <thead>\n",
       "    <tr style=\"text-align: right;\">\n",
       "      <th></th>\n",
       "      <th>text</th>\n",
       "      <th>label</th>\n",
       "    </tr>\n",
       "  </thead>\n",
       "  <tbody>\n",
       "    <tr>\n",
       "      <th>0</th>\n",
       "      <td>i just feel really helpless and heavy hearted</td>\n",
       "      <td>4</td>\n",
       "    </tr>\n",
       "    <tr>\n",
       "      <th>1</th>\n",
       "      <td>ive enjoyed being able to slouch about relax and unwind and frankly needed it after those last few weeks around the end of uni and the expo i have lately started to find myself feeling a bit listless which is never really a good thing</td>\n",
       "      <td>0</td>\n",
       "    </tr>\n",
       "    <tr>\n",
       "      <th>2</th>\n",
       "      <td>i gave up my internship with the dmrg and am feeling distraught</td>\n",
       "      <td>4</td>\n",
       "    </tr>\n",
       "    <tr>\n",
       "      <th>3</th>\n",
       "      <td>i dont know i feel so lost</td>\n",
       "      <td>0</td>\n",
       "    </tr>\n",
       "    <tr>\n",
       "      <th>4</th>\n",
       "      <td>i am a kindergarten teacher and i am thoroughly weary of my job after having taken the university entrance exam i suffered from anxiety for weeks as i did not want to carry on with my work studies were the only alternative</td>\n",
       "      <td>4</td>\n",
       "    </tr>\n",
       "  </tbody>\n",
       "</table>\n",
       "</div>"
      ],
      "text/plain": [
       "                                                                                                                                                                                                                                         text  \\\n",
       "0                                                                                                                                                                                               i just feel really helpless and heavy hearted   \n",
       "1  ive enjoyed being able to slouch about relax and unwind and frankly needed it after those last few weeks around the end of uni and the expo i have lately started to find myself feeling a bit listless which is never really a good thing   \n",
       "2                                                                                                                                                                             i gave up my internship with the dmrg and am feeling distraught   \n",
       "3                                                                                                                                                                                                                  i dont know i feel so lost   \n",
       "4              i am a kindergarten teacher and i am thoroughly weary of my job after having taken the university entrance exam i suffered from anxiety for weeks as i did not want to carry on with my work studies were the only alternative   \n",
       "\n",
       "   label  \n",
       "0      4  \n",
       "1      0  \n",
       "2      4  \n",
       "3      0  \n",
       "4      4  "
      ]
     },
     "execution_count": 8,
     "metadata": {},
     "output_type": "execute_result"
    }
   ],
   "source": [
    "emosion.head()"
   ]
  },
  {
   "cell_type": "markdown",
   "id": "ae5f4bb8-1478-4771-925c-50ceb6168dc1",
   "metadata": {},
   "source": [
    "## Light EDA"
   ]
  },
  {
   "cell_type": "code",
   "execution_count": 23,
   "id": "a43b2125-b8eb-495c-b308-93a001cddb5b",
   "metadata": {},
   "outputs": [
    {
     "data": {
      "text/html": [
       "<div>\n",
       "<style scoped>\n",
       "    .dataframe tbody tr th:only-of-type {\n",
       "        vertical-align: middle;\n",
       "    }\n",
       "\n",
       "    .dataframe tbody tr th {\n",
       "        vertical-align: top;\n",
       "    }\n",
       "\n",
       "    .dataframe thead th {\n",
       "        text-align: right;\n",
       "    }\n",
       "</style>\n",
       "<table border=\"1\" class=\"dataframe\">\n",
       "  <thead>\n",
       "    <tr style=\"text-align: right;\">\n",
       "      <th></th>\n",
       "      <th>features</th>\n",
       "      <th>dtypes</th>\n",
       "      <th>null count</th>\n",
       "      <th>null %</th>\n",
       "    </tr>\n",
       "  </thead>\n",
       "  <tbody>\n",
       "    <tr>\n",
       "      <th>0</th>\n",
       "      <td>text</td>\n",
       "      <td>object</td>\n",
       "      <td>0</td>\n",
       "      <td>0.0</td>\n",
       "    </tr>\n",
       "    <tr>\n",
       "      <th>1</th>\n",
       "      <td>label</td>\n",
       "      <td>int64</td>\n",
       "      <td>0</td>\n",
       "      <td>0.0</td>\n",
       "    </tr>\n",
       "  </tbody>\n",
       "</table>\n",
       "</div>"
      ],
      "text/plain": [
       "  features  dtypes  null count  null %\n",
       "0     text  object           0     0.0\n",
       "1    label   int64           0     0.0"
      ]
     },
     "execution_count": 23,
     "metadata": {},
     "output_type": "execute_result"
    }
   ],
   "source": [
    "# Check null values\n",
    "fn.check_null_count(emosion)\n"
   ]
  },
  {
   "cell_type": "code",
   "execution_count": 24,
   "id": "4a31039b-7f6e-4e18-970e-a10b6868067b",
   "metadata": {},
   "outputs": [
    {
     "data": {
      "text/plain": [
       "686"
      ]
     },
     "execution_count": 24,
     "metadata": {},
     "output_type": "execute_result"
    }
   ],
   "source": [
    "# Check for duplicates\n",
    "\n",
    "emosion.duplicated().sum()"
   ]
  },
  {
   "cell_type": "code",
   "execution_count": 27,
   "id": "18ee5429-71ef-4eb8-b592-da97f30787f4",
   "metadata": {},
   "outputs": [
    {
     "data": {
      "text/plain": [
       "0"
      ]
     },
     "execution_count": 27,
     "metadata": {},
     "output_type": "execute_result"
    }
   ],
   "source": [
    "# remove the duplicates\n",
    "\n",
    "emosion = emosion.drop_duplicates()\n",
    "\n",
    "# sanity check for duplicates\n",
    "\n",
    "emosion.duplicated().sum()"
   ]
  },
  {
   "cell_type": "markdown",
   "id": "4cbe1d7b-2187-4b04-b0ab-e075f520b55b",
   "metadata": {},
   "source": [
    "### <font color='blue'>Explore each column </font>"
   ]
  },
  {
   "cell_type": "markdown",
   "id": "348f00a6-5224-4106-bb54-9d968ee07390",
   "metadata": {},
   "source": [
    "#### Inspect label"
   ]
  },
  {
   "cell_type": "code",
   "execution_count": 31,
   "id": "56087793-d758-489a-9b67-90fd0a47d2cf",
   "metadata": {},
   "outputs": [
    {
     "data": {
      "text/plain": [
       "1    140779\n",
       "0    120989\n",
       "3     57235\n",
       "4     47664\n",
       "2     34497\n",
       "5     14959\n",
       "Name: label, dtype: int64"
      ]
     },
     "execution_count": 31,
     "metadata": {},
     "output_type": "execute_result"
    }
   ],
   "source": [
    "# using custom function to inspect and explore label \n",
    "\n",
    "#fn.explore_numeric(emosion, 'label')\n",
    "\n",
    "emosion['label'].value_counts()"
   ]
  },
  {
   "cell_type": "code",
   "execution_count": 34,
   "id": "b739d979-0d10-440b-b8fc-aaf84c5c11bb",
   "metadata": {},
   "outputs": [],
   "source": [
    "# lets inpect each label with its associated text\n",
    "\n",
    "label1 = emosion[emosion['label']==1]"
   ]
  },
  {
   "cell_type": "code",
   "execution_count": 35,
   "id": "8f9a9fe6-ff5f-40b5-a33d-db3745746392",
   "metadata": {},
   "outputs": [
    {
     "data": {
      "text/html": [
       "<div>\n",
       "<style scoped>\n",
       "    .dataframe tbody tr th:only-of-type {\n",
       "        vertical-align: middle;\n",
       "    }\n",
       "\n",
       "    .dataframe tbody tr th {\n",
       "        vertical-align: top;\n",
       "    }\n",
       "\n",
       "    .dataframe thead th {\n",
       "        text-align: right;\n",
       "    }\n",
       "</style>\n",
       "<table border=\"1\" class=\"dataframe\">\n",
       "  <thead>\n",
       "    <tr style=\"text-align: right;\">\n",
       "      <th></th>\n",
       "      <th>text</th>\n",
       "      <th>label</th>\n",
       "    </tr>\n",
       "  </thead>\n",
       "  <tbody>\n",
       "    <tr>\n",
       "      <th>7</th>\n",
       "      <td>i fear that they won t ever feel that delicious excitement of christmas eve at least not in the same way i remember doing it</td>\n",
       "      <td>1</td>\n",
       "    </tr>\n",
       "    <tr>\n",
       "      <th>10</th>\n",
       "      <td>i try to be nice though so if you get a bitchy person on the phone or at the window feel free to have a little fit and throw your pen at her face</td>\n",
       "      <td>1</td>\n",
       "    </tr>\n",
       "    <tr>\n",
       "      <th>12</th>\n",
       "      <td>i have officially graduated im not feeling as ecstatic as i thought i would</td>\n",
       "      <td>1</td>\n",
       "    </tr>\n",
       "    <tr>\n",
       "      <th>14</th>\n",
       "      <td>i feel my portfolio demonstrates how eager i am to learn but some who know me better might call it annoyingly persistent</td>\n",
       "      <td>1</td>\n",
       "    </tr>\n",
       "    <tr>\n",
       "      <th>15</th>\n",
       "      <td>i may be more biased than the next because i have a dependent life to take care of and to keep safe but i feel we all need to take care of ourselves as well</td>\n",
       "      <td>1</td>\n",
       "    </tr>\n",
       "    <tr>\n",
       "      <th>...</th>\n",
       "      <td>...</td>\n",
       "      <td>...</td>\n",
       "    </tr>\n",
       "    <tr>\n",
       "      <th>416796</th>\n",
       "      <td>im feeling inspired by their drama today</td>\n",
       "      <td>1</td>\n",
       "    </tr>\n",
       "    <tr>\n",
       "      <th>416800</th>\n",
       "      <td>i don t know why today i feel like it looks very cool you know somedays your just like yea bring that shit on to be honest the novelty has already worn off</td>\n",
       "      <td>1</td>\n",
       "    </tr>\n",
       "    <tr>\n",
       "      <th>416801</th>\n",
       "      <td>i don t even feel like i fully resolved it but it felt right to ask it</td>\n",
       "      <td>1</td>\n",
       "    </tr>\n",
       "    <tr>\n",
       "      <th>416802</th>\n",
       "      <td>i feel like i have been neglecting you my faithful reader s</td>\n",
       "      <td>1</td>\n",
       "    </tr>\n",
       "    <tr>\n",
       "      <th>416803</th>\n",
       "      <td>i cry and feel a sense of loss when my patients die but if i have helped them to die a dignified peaceful and loving death and continue their journey to the other side then i have have not only done my job but i have given of myself lovingly</td>\n",
       "      <td>1</td>\n",
       "    </tr>\n",
       "  </tbody>\n",
       "</table>\n",
       "<p>140779 rows × 2 columns</p>\n",
       "</div>"
      ],
      "text/plain": [
       "                                                                                                                                                                                                                                                     text  \\\n",
       "7                                                                                                                            i fear that they won t ever feel that delicious excitement of christmas eve at least not in the same way i remember doing it   \n",
       "10                                                                                                      i try to be nice though so if you get a bitchy person on the phone or at the window feel free to have a little fit and throw your pen at her face   \n",
       "12                                                                                                                                                                            i have officially graduated im not feeling as ecstatic as i thought i would   \n",
       "14                                                                                                                               i feel my portfolio demonstrates how eager i am to learn but some who know me better might call it annoyingly persistent   \n",
       "15                                                                                           i may be more biased than the next because i have a dependent life to take care of and to keep safe but i feel we all need to take care of ourselves as well   \n",
       "...                                                                                                                                                                                                                                                   ...   \n",
       "416796                                                                                                                                                                                                           im feeling inspired by their drama today   \n",
       "416800                                                                                        i don t know why today i feel like it looks very cool you know somedays your just like yea bring that shit on to be honest the novelty has already worn off   \n",
       "416801                                                                                                                                                                             i don t even feel like i fully resolved it but it felt right to ask it   \n",
       "416802                                                                                                                                                                                        i feel like i have been neglecting you my faithful reader s   \n",
       "416803  i cry and feel a sense of loss when my patients die but if i have helped them to die a dignified peaceful and loving death and continue their journey to the other side then i have have not only done my job but i have given of myself lovingly   \n",
       "\n",
       "        label  \n",
       "7           1  \n",
       "10          1  \n",
       "12          1  \n",
       "14          1  \n",
       "15          1  \n",
       "...       ...  \n",
       "416796      1  \n",
       "416800      1  \n",
       "416801      1  \n",
       "416802      1  \n",
       "416803      1  \n",
       "\n",
       "[140779 rows x 2 columns]"
      ]
     },
     "execution_count": 35,
     "metadata": {},
     "output_type": "execute_result"
    }
   ],
   "source": [
    "label1"
   ]
  }
 ],
 "metadata": {
  "kernelspec": {
   "display_name": "Python 3 (ipykernel)",
   "language": "python",
   "name": "python3"
  },
  "language_info": {
   "codemirror_mode": {
    "name": "ipython",
    "version": 3
   },
   "file_extension": ".py",
   "mimetype": "text/x-python",
   "name": "python",
   "nbconvert_exporter": "python",
   "pygments_lexer": "ipython3",
   "version": "3.10.10"
  }
 },
 "nbformat": 4,
 "nbformat_minor": 5
}
